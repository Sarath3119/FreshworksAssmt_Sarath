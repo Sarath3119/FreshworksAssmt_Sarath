{
 "cells": [
  {
   "cell_type": "code",
   "execution_count": 1,
   "metadata": {},
   "outputs": [
    {
     "name": "stdout",
     "output_type": "stream",
     "text": [
      "importing Jupyter notebook from core.ipynb\n",
      "error: given key does not exist in database. Please enter a valid key\n",
      "Created a key-value pair\n",
      "After creation:  Fresh:25\n",
      "error: this key already exists\n",
      "key is successfully deleted\n",
      "error: given key does not exist in database. Please enter a valid key\n",
      "After deletion:  None\n",
      "Created a key-value pair\n"
     ]
    },
    {
     "data": {
      "text/plain": [
       "'src:70'"
      ]
     },
     "execution_count": 1,
     "metadata": {},
     "output_type": "execute_result"
    }
   ],
   "source": [
    "import import_ipynb\n",
    "import core as x \n",
    "#importing the main file(\"code\" is the name of the file I have used) as a library \n",
    "\n",
    "x.read(\"Fresh\") #Trying access a key before its creation (does not exist)\n",
    "\n",
    "x.create(\"Fresh\",25) #to create a key with key_name,value given and with no time-to-live property\n",
    "\n",
    "print(\"After creation: \",x.read('Fresh')) #it returns the value of the respective key in Jasonobject format 'key_name:value'\n",
    "\n",
    "x.create(\"Fresh\",25)  #already existing key\n",
    "\n",
    "x.delete(\"Fresh\") #it deletes the respective key and its value from the database(memory is also freed)\n",
    "\n",
    "print(\"After deletion: \",x.read('Fresh'))\n",
    "\n",
    "\n",
    "x.create(\"src\",70,10) #with time to live proporty\n",
    "x.read('src')"
   ]
  },
  {
   "cell_type": "code",
   "execution_count": 2,
   "metadata": {},
   "outputs": [
    {
     "name": "stdout",
     "output_type": "stream",
     "text": [
      "error: time-to-live of src has expired\n"
     ]
    }
   ],
   "source": [
    "x.read('src') #Reading the key after 10secs"
   ]
  }
 ],
 "metadata": {
  "kernelspec": {
   "display_name": "Python 3",
   "language": "python",
   "name": "python3"
  },
  "language_info": {
   "codemirror_mode": {
    "name": "ipython",
    "version": 3
   },
   "file_extension": ".py",
   "mimetype": "text/x-python",
   "name": "python",
   "nbconvert_exporter": "python",
   "pygments_lexer": "ipython3",
   "version": "3.8.3"
  }
 },
 "nbformat": 4,
 "nbformat_minor": 4
}
